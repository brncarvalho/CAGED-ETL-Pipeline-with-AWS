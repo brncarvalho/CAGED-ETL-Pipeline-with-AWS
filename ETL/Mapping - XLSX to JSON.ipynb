{
 "cells": [
  {
   "cell_type": "code",
   "execution_count": 1,
   "id": "a56faf51-32c2-4dbe-8c33-5439e3babb8a",
   "metadata": {},
   "outputs": [],
   "source": [
    "import pandas as pd\n",
    "import os\n",
    "import json\n",
    "from unidecode import unidecode"
   ]
  },
  {
   "cell_type": "code",
   "execution_count": 2,
   "id": "a003479c-7607-4e03-80df-aa2d7b580229",
   "metadata": {},
   "outputs": [],
   "source": [
    "#Defining paths\n",
    "xlsx_file = r'C:\\Users\\bruno\\Downloads\\new_caged_layout.xlsx'\n",
    "xls = pd.ExcelFile(xlsx_file)\n",
    "output_directory = r'C:\\Users\\bruno\\Documents\\Projeto Engenharia de Dados\\mapping_new_caged.json'"
   ]
  },
  {
   "cell_type": "code",
   "execution_count": 3,
   "id": "f981cf20-8fbc-41f1-acdd-5cfd518676a6",
   "metadata": {},
   "outputs": [
    {
     "name": "stdout",
     "output_type": "stream",
     "text": [
      "Mapeamentos JSON criados com sucesso!\n"
     ]
    }
   ],
   "source": [
    "# Create an empty dictionary to store all mappings\n",
    "all_mappings = {}\n",
    "\n",
    "# Iterate over the sheets in the Excel file\n",
    "for sheet_name in xls.sheet_names:\n",
    "    # Read the Excel sheet into a DataFrame\n",
    "    df = pd.read_excel(xlsx_file, sheet_name)\n",
    "    \n",
    "    # Create a mapping from the sheet\n",
    "    mapping = {}\n",
    "    for _, row in df.iterrows():\n",
    "        code = row.iloc[0]   # Assuming the code is in the first column\n",
    "        value = row.iloc[1]  # Assuming the value is in the second column\n",
    "\n",
    "        # Clean the value using unidecode to remove accents\n",
    "        value_cleaned = unidecode(value)\n",
    "        \n",
    "        # Add the code and cleaned value to the mapping dictionary\n",
    "        mapping[code] = value_cleaned\n",
    "    \n",
    "    # Add the mapping dictionary to the general dictionary\n",
    "    all_mappings[sheet_name] = mapping\n",
    "\n",
    "# Save the dictionary of mappings as a JSON file\n",
    "with open(output_directory, 'w', encoding='utf-8') as f:\n",
    "    json.dump(all_mappings, f, indent=4)"
   ]
  },
  {
   "cell_type": "code",
   "execution_count": null,
   "id": "3819433a-4728-49dc-aa87-c92e3410d053",
   "metadata": {},
   "outputs": [],
   "source": []
  }
 ],
 "metadata": {
  "kernelspec": {
   "display_name": "Python 3 (ipykernel)",
   "language": "python",
   "name": "python3"
  },
  "language_info": {
   "codemirror_mode": {
    "name": "ipython",
    "version": 3
   },
   "file_extension": ".py",
   "mimetype": "text/x-python",
   "name": "python",
   "nbconvert_exporter": "python",
   "pygments_lexer": "ipython3",
   "version": "3.11.4"
  }
 },
 "nbformat": 4,
 "nbformat_minor": 5
}
