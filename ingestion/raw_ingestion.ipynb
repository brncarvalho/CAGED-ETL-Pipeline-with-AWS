{
 "cells": [
  {
   "cell_type": "code",
   "execution_count": null,
   "id": "37e92d3d",
   "metadata": {},
   "outputs": [],
   "source": [
    "import boto3\n",
    "import configparser\n",
    "import ftplib\n",
    "import urllib.request\n",
    "import time\n",
    "import py7zr"
   ]
  },
  {
   "cell_type": "code",
   "execution_count": null,
   "id": "8c23f10f",
   "metadata": {},
   "outputs": [],
   "source": [
    "# Create a ConfigParser instance to read configuration from 'credentials.txt'\n",
    "config = configparser.ConfigParser()\n",
    "config.read_file(open('credentials.txt'))"
   ]
  },
  {
   "cell_type": "code",
   "execution_count": null,
   "id": "3312b71f",
   "metadata": {},
   "outputs": [],
   "source": [
    "# Retrieve AWS access key and secret from the configuration file\n",
    "KEY = config.get('AWS', 'KEY')\n",
    "SECRET = config.get('AWS', 'SECRET')"
   ]
  },
  {
   "cell_type": "code",
   "execution_count": null,
   "id": "d3f0d08b",
   "metadata": {},
   "outputs": [],
   "source": [
    "# Create an AWS session using the retrieved access key and secret\n",
    "session = boto3.Session(\n",
    "    aws_access_key_id=KEY,\n",
    "    aws_secret_access_key=SECRET\n",
    ")"
   ]
  },
  {
   "cell_type": "code",
   "execution_count": null,
   "id": "35809409",
   "metadata": {},
   "outputs": [],
   "source": [
    "# Create an instance of the FTP class for connection to the FTP server\n",
    "ftp = ftplib.FTP('ftp.mtps.gov.br')\n",
    "ftp.login()\n"
   ]
  },
  {
   "cell_type": "code",
   "execution_count": null,
   "id": "c8b7d407",
   "metadata": {},
   "outputs": [],
   "source": [
    "# Define ranges of years for processing\n",
    "anos_2010_2019 = range(2010, 2020)  # Range from 2010 to 2019\n",
    "anos_2020_2023 = range(2020, 2024)  # Range from 2020 to 2023"
   ]
  },
  {
   "cell_type": "code",
   "execution_count": null,
   "id": "e758b865",
   "metadata": {},
   "outputs": [],
   "source": [
    "# Import necessary libraries\n",
    "import urllib.request\n",
    "import ftplib\n",
    "import boto3\n",
    "\n",
    "# Establish an FTP connection to the server\n",
    "ftp = ftplib.FTP('ftp.mtps.gov.br')\n",
    "ftp.login()\n",
    "\n",
    "# AWS S3 client initialization\n",
    "s3_client = boto3.client('s3')\n",
    "\n",
    "# Years for different data sources\n",
    "anos_2020_2023 = range(2020, 2024)  # Range of years 2020 to 2023\n",
    "anos_2010_2019 = range(2010, 2020)  # Range of years 2010 to 2019\n",
    "\n",
    "# Iterate through the years 2020 to 2023\n",
    "for ano in anos_2020_2023:\n",
    "    # Change to the directory of the \"NOVO CAGED\"\n",
    "    ftp.cwd('/pdet/microdados/NOVO CAGED/')\n",
    "\n",
    "    # Change to the directory of the year\n",
    "    ftp.cwd(str(ano))\n",
    "\n",
    "    # List the month directories in the year directory\n",
    "    meses = ftp.nlst()\n",
    "\n",
    "    # Iterate through the month directories\n",
    "    for mes in meses:\n",
    "        # Change to the month directory\n",
    "        ftp.cwd(mes)\n",
    "\n",
    "        # List the files in the month directory\n",
    "        files = ftp.nlst()\n",
    "\n",
    "        # Iterate through the files\n",
    "        for file in files:\n",
    "            if 'MOV' in file:\n",
    "                # Construct the FTP file path\n",
    "                ftp_file_path = f'ftp://ftp.mtps.gov.br/pdet/microdados/NOVO CAGED/{ano}/{mes}/{file}'\n",
    "\n",
    "                # Construct the local file path\n",
    "                local_file_path = f'C:/Users/bruno/Documents/Projeto Engenharia de Dados/files/{file}'\n",
    "\n",
    "                # Download the file from FTP\n",
    "                urllib.request.urlretrieve(ftp_file_path, local_file_path)\n",
    "\n",
    "                # Upload the file to S3\n",
    "                bucket_name = 'caged-bucket'  # S3 bucket name\n",
    "                s3_key = f'bronze/{file}'  # S3 file path and name\n",
    "\n",
    "                s3_client.upload_file(\n",
    "                    Filename=local_file_path,\n",
    "                    Bucket=bucket_name,\n",
    "                    Key=s3_key\n",
    "                )\n",
    "\n",
    "                print(f\"File {file} successfully uploaded to Amazon S3!\")\n",
    "\n",
    "        # Go back to the main year directory\n",
    "        ftp.cwd('..')\n",
    "\n",
    "# Iterate through the years 2010 to 2019\n",
    "for ano in anos_2010_2019:\n",
    "    # Change to the directory of the year\n",
    "    ftp.cwd(f'/pdet/microdados/CAGED/{ano}')\n",
    "\n",
    "    # List the files in the directory\n",
    "    files = ftp.nlst()\n",
    "\n",
    "    # Iterate through the files\n",
    "    for file in files:\n",
    "        # Construct the FTP file path\n",
    "        ftp_file_path = f'ftp://ftp.mtps.gov.br/pdet/microdados/CAGED/{ano}/{file}'\n",
    "\n",
    "        # Construct the local file path\n",
    "        local_file_path = f'C:/Users/bruno/Documents/Projeto Engenharia de Dados/files/{file}'\n",
    "\n",
    "        # Download the file from FTP\n",
    "        urllib.request.urlretrieve(ftp_file_path, local_file_path)\n",
    "\n",
    "        # Upload the file to S3\n",
    "        bucket_name = 'caged-bucket'  # S3 bucket name\n",
    "        s3_key = f'raw/{file}'  # S3 file path and name\n",
    "\n",
    "        s3_client.upload_file(\n",
    "            Filename=local_file_path,\n",
    "            Bucket=bucket_name,\n",
    "            Key=s3_key\n",
    "        )\n",
    "\n",
    "        print(f\"File {file} uploaded to Amazon S3\")\n",
    "\n",
    "# Close the FTP connection\n",
    "ftp.quit()"
   ]
  },
  {
   "cell_type": "code",
   "execution_count": null,
   "id": "8287ed98",
   "metadata": {},
   "outputs": [],
   "source": []
  }
 ],
 "metadata": {
  "kernelspec": {
   "display_name": "Python 3 (ipykernel)",
   "language": "python",
   "name": "python3"
  },
  "language_info": {
   "codemirror_mode": {
    "name": "ipython",
    "version": 3
   },
   "file_extension": ".py",
   "mimetype": "text/x-python",
   "name": "python",
   "nbconvert_exporter": "python",
   "pygments_lexer": "ipython3",
   "version": "3.11.4"
  }
 },
 "nbformat": 4,
 "nbformat_minor": 5
}
